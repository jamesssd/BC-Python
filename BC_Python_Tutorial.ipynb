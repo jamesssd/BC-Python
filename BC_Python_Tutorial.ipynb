{
 "cells": [
  {
   "cell_type": "code",
   "execution_count": 1,
   "id": "2cb09313-9729-4d2e-8b3c-a5b70e572c00",
   "metadata": {},
   "outputs": [
    {
     "ename": "TypeError",
     "evalue": "can only concatenate str (not \"float\") to str",
     "output_type": "error",
     "traceback": [
      "\u001b[0;31m---------------------------------------------------------------------------\u001b[0m",
      "\u001b[0;31mTypeError\u001b[0m                                 Traceback (most recent call last)",
      "Cell \u001b[0;32mIn[1], line 11\u001b[0m\n\u001b[1;32m      8\u001b[0m x \u001b[38;5;241m=\u001b[39m \u001b[38;5;28mfloat\u001b[39m(x)\n\u001b[1;32m     10\u001b[0m \u001b[38;5;66;03m# line of code below is gonna be an error because you can only concatenate str to str \u001b[39;00m\n\u001b[0;32m---> 11\u001b[0m \u001b[38;5;28mprint\u001b[39m(\u001b[38;5;124;43m\"\u001b[39;49m\u001b[38;5;124;43mx is : \u001b[39;49m\u001b[38;5;124;43m\"\u001b[39;49m\u001b[43m \u001b[49m\u001b[38;5;241;43m+\u001b[39;49m\u001b[43m \u001b[49m\u001b[43mx\u001b[49m)\n\u001b[1;32m     12\u001b[0m \u001b[38;5;28mprint\u001b[39m(\u001b[38;5;124m\"\u001b[39m\u001b[38;5;124my is :  \u001b[39m\u001b[38;5;124m\"\u001b[39m \u001b[38;5;241m+\u001b[39m \u001b[38;5;28mint\u001b[39m(y))\n\u001b[1;32m     13\u001b[0m \u001b[38;5;66;03m#original print statement print(z)\u001b[39;00m\n",
      "\u001b[0;31mTypeError\u001b[0m: can only concatenate str (not \"float\") to str"
     ]
    }
   ],
   "source": [
    "# Type Casting-covert the data type of a value to another data type\n",
    "x = 1\n",
    "y = 2.0\n",
    "z = \"3\" \n",
    "\n",
    "#typecasting str to int\n",
    "z = int(z)\n",
    "x = float(x)\n",
    "\n",
    "# line of code below is gonna be an error because you can only concatenate str to str \n",
    "print(\"x is : \" + x)\n",
    "print(\"y is :  \" + int(y))\n",
    "#original print statement print(z)\n",
    "print(z*4)"
   ]
  },
  {
   "cell_type": "code",
   "execution_count": null,
   "id": "b70d5d68-0028-44c4-89f8-fab7095e49fd",
   "metadata": {},
   "outputs": [],
   "source": [
    "# user input\n",
    "#input is always going to be a str datatype, to put an integer or float, you must type cast it\n",
    "name = input(\"What is your name?\")\n",
    "age = int(input(\"How old are you?\"))\n",
    "height = float(input(\"How tall are you?\"))\n",
    "age = age + 1\n",
    "print(\"Hi \" + name + \"! Nice to meet you!\")\n",
    "print(\"You are \" + str(age) + \" years old in one yearHow\")\n",
    "print(\"You are \" + str(height) + \"cm tall!\")"
   ]
  },
  {
   "cell_type": "code",
   "execution_count": null,
   "id": "46674b73-0006-47ba-8a2b-f9284133ed9a",
   "metadata": {},
   "outputs": [],
   "source": [
    "# Math Functions\n",
    "import math #must use import to use functions\n",
    "pi = 3.14\n",
    "\n",
    "x = 1\n",
    "y = 2\n",
    "z = 3\n",
    "print(round(pi))\n",
    "print(math.ceil(pi))\n",
    "print(math.floor(pi))\n",
    "print(abs(pi)) #number away from 0\n",
    "print(pow(pi,2)) #power of\n",
    "print(math.sqrt(420)) #square root\n",
    "print(max(x,y,z))\n",
    "print(min(x,y,z))"
   ]
  },
  {
   "cell_type": "code",
   "execution_count": null,
   "id": "ce33c349-9c93-4ed0-a3eb-602ac5a83c77",
   "metadata": {},
   "outputs": [],
   "source": [
    "#String slicing = create a substring by extracting elements from another string indexing[] or slice( [start:stop:step])\n",
    "#step is how much characters you are indexing too\n",
    "name = \"James Dizon\"\n",
    "first_name = name[:5] #name[0:5] this will still give you the same answer\n",
    "last_name = name[6:] #name[6:11] this will still give you the same answer\n",
    "sec_charc = name[::2]\n",
    "reversed_name = name[::-1]\n",
    "\n",
    "# print(first_name)\n",
    "# print(last_name)\n",
    "# print(sec_charc)\n",
    "# print(reversed_name)\n",
    "\n",
    "#the code below works\n",
    "website = \"http://google.com\"\n",
    "slice = slice(7,-4)\n",
    "\n",
    "print(website[slice])"
   ]
  },
  {
   "cell_type": "code",
   "execution_count": null,
   "id": "cc823240-6153-460c-973d-5820a411371b",
   "metadata": {},
   "outputs": [],
   "source": [
    "#if-else statements\n",
    "#Starts from the top and if false, then continue to move down then line of code\n",
    "age = int(input(\"How old are you?: \"))\n",
    "\n",
    "if age == 100:\n",
    "    print(\"You're super old!\")\n",
    "elif age >= 18:\n",
    "    print(\"You are an adult!\")\n",
    "    \n",
    "elif age < 0:\n",
    "    print(\"You haven't been born yet!\")\n",
    "else: \n",
    "    print(\"You are a little baby!\")\n",
    "\n"
   ]
  },
  {
   "cell_type": "code",
   "execution_count": null,
   "id": "ec5eafa5-f27b-495d-b25a-f4159422769a",
   "metadata": {},
   "outputs": [],
   "source": [
    "#Logical operators = used to check if two or more conditional statements are true or false:\n",
    "# and - both statements has to be true\n",
    "# or - one statements has to be true\n",
    "#not - the statement will bee opposite, true=false, false = true\n",
    "temp = int(input(\"What is the temperature outside?: \"))\n",
    "#original code:\n",
    "# if temp >= 0 and temp <= 30:\n",
    "#     print(\"The temperate is good today!\")\n",
    "#     print(\"Go outside!!\")\n",
    "# elif temp < 0 or temp >= 30:\n",
    "#     print(\"The temperature is bad today!\")\n",
    "#     print(\"Stay inside!\")\n",
    "if not(temp >= 0 and temp <= 30):\n",
    "    print(\"The temperature is bad today!\")\n",
    "    print(\"Stay inside!\")\n",
    "elif not(temp < 0 or temp >= 30):\n",
    "    print(\"The temperate is good today!\")\n",
    "    print(\"Go outside!!\")\n",
    "    \n",
    "    \n",
    "    "
   ]
  },
  {
   "cell_type": "code",
   "execution_count": null,
   "id": "7b1c8fc9-a9bd-4692-99af-de3ec74675fb",
   "metadata": {},
   "outputs": [],
   "source": [
    "#While Loops: loop that will continue as long as condition is true\n",
    "\n",
    "name = None\n",
    "while not name:\n",
    "    name = input(\"Enter your name: \")\n",
    "print(\"Hello \" + name + \"!!!\")"
   ]
  },
  {
   "cell_type": "code",
   "execution_count": null,
   "id": "f41a53e6-04cd-4494-b94b-46eceff31cc5",
   "metadata": {},
   "outputs": [],
   "source": [
    "import time\n",
    "#For Loops: statement aht will execute its block of code a limited amount of times\n",
    "\n",
    "# for i in range(10):\n",
    "    # print(i+1)\n",
    "\n",
    "# for i in range(50,100+1, 30):\n",
    "#     print(i)\n",
    "# for i in \"James Dizon\":\n",
    "#     print(i)\n",
    "\n",
    "for i in range(10,0,-1):\n",
    "    print(i)\n",
    "    time.sleep(1)\n",
    "print(\"Happy New Year!\")"
   ]
  },
  {
   "cell_type": "code",
   "execution_count": null,
   "id": "306d8dd5-ec6a-4b3e-81af-03f78fdfeb50",
   "metadata": {
    "scrolled": true
   },
   "outputs": [],
   "source": [
    "# Nested Loops = the \"inner loop\" will finish all of it's iterations before finishing one iteration of the \"outer loop\"\n",
    "rows = int(input(\"How many row?: \"))\n",
    "col = int(input(\"How many columns?: \"))\n",
    "sym = input(\"Enter a symbol to use: \")\n",
    "# code on the bottom is a nested loop that runs the inner loop then completes the iteration for the outer loop\n",
    "# ie. row input is 5 and column input 6. outer loop will create the first row, then the inner loop will run 6 times then\n",
    "#the outer loop will move on to the next iteration this loop will continue until there are 5 rows \n",
    "for i in range(rows):\n",
    "    for j in range(col):\n",
    "        print(sym, end=\"\") #prevent the cursor on going down the next line\n",
    "    print()"
   ]
  },
  {
   "cell_type": "code",
   "execution_count": null,
   "id": "c11246ff-2175-4266-86db-2e38569a248d",
   "metadata": {},
   "outputs": [],
   "source": [
    "# loop control statements: change a loops execution from its normal sequence\n",
    "# break: used to terminate the loop entirely\n",
    "# continue: skips to the next iteration of the loop\n",
    "# pass: does nothing, acts as a placeholder\n",
    "\n",
    "# while True:\n",
    "#     name = input(\"Enter your name: \")\n",
    "#     if name != \"\":\n",
    "#         break\n",
    "phone_num = \"123-456-7890\"\n",
    "\n",
    "# for i in phone_num:\n",
    "#     if i == \"-\":\n",
    "#         continue\n",
    "#     print(i, end= \"\")\n",
    "\n",
    "# for i in range(1, 21):\n",
    "#     if i == 13:\n",
    "#         pass\n",
    "#     else:\n",
    "#         print(i)"
   ]
  },
  {
   "cell_type": "code",
   "execution_count": null,
   "id": "3bf588f5-53e3-44a5-96b1-a10f89209892",
   "metadata": {},
   "outputs": [],
   "source": [
    "# list: used to store multiple items in a single variable \n",
    "# to create a list, you must use a square bracket []\n",
    "# to access a certain index in the list you must use varName[index]\n",
    "food = [\"pizza\", 'bananas', 'hot dog', 'hamburgers']\n",
    "# print(food[0])\n",
    "food[0] = \"sushi\"\n",
    "# print(food[0])\n",
    "food.append(\"ice cream\") #add an item at the end of the list\n",
    "food.remove(\"sushi\") #remove a specific index in the list\n",
    "food.pop() #removes the index at the end of the list\n",
    "food.insert(0, \"cake\") \n",
    "food.sort()\n",
    "# food.clear() clears the list\n",
    "for x in food:\n",
    "    print(x)"
   ]
  },
  {
   "cell_type": "code",
   "execution_count": null,
   "id": "479fd019-3892-48be-923b-c47c93be749c",
   "metadata": {},
   "outputs": [],
   "source": [
    "# 2D list/multidimensional list: a list of lists\n",
    "drink = [\"coffee\", \"soda\", \"tea\"]\n",
    "dinner = [\"pizza\", \"hamburger\", \"hotdog\"]\n",
    "dessert = [\"cake\", \"ice cream\"]\n",
    "\n",
    "food = [drink, dinner, dessert]\n",
    "print(food[1][1])"
   ]
  },
  {
   "cell_type": "code",
   "execution_count": null,
   "id": "c668cacf-0c09-4cdb-88e7-832c57a140ba",
   "metadata": {},
   "outputs": [],
   "source": [
    "#tuple: collection which is ordered and unchangeable, used to group together related data\n",
    "\n",
    "student = (\"James\", 21, \"male\")\n",
    "\n",
    "print(student.count(\"James\"))\n",
    "print(student.index(\"male\"))\n",
    "\n",
    "for x in student:\n",
    "    print(x)\n",
    "\n",
    "if \"James\" in student:\n",
    "    print(\"James is present!\")"
   ]
  },
  {
   "cell_type": "code",
   "execution_count": 4,
   "id": "8d9cbc40-08eb-4fce-bcda-b0ee49505c58",
   "metadata": {},
   "outputs": [
    {
     "name": "stdout",
     "output_type": "stream",
     "text": [
      "{'spoons', 'knife', 'forks'}\n"
     ]
    }
   ],
   "source": [
    "# set is a collection which is unordered, unindexed. No duplicate values\n",
    "# print will be random \n",
    "# able to add in the list\n",
    "# remove, update and join two set lists\n",
    "utensils = {'forks', 'spoons', 'knife'}\n",
    "dishes = {'bowl', 'plate', 'cup'}\n",
    "# utensils.add(\"napkin\")\n",
    "# utensils.remove('forks')\n",
    "# utensils.update(dishes)\n",
    "# dinner_tab = utensils.union(dishes)\n",
    "print(utensils.difference(dishes))\n",
    "# for x in dinner_tab:\n",
    "#     print(x)\n"
   ]
  },
  {
   "cell_type": "code",
   "execution_count": 14,
   "id": "18b06eb8-daea-4822-992c-a6fd4609c17a",
   "metadata": {},
   "outputs": [
    {
     "name": "stdout",
     "output_type": "stream",
     "text": [
      "US Washington DC\n",
      "India New Dehli\n",
      "China Beijing\n",
      "Russia Moscow\n"
     ]
    }
   ],
   "source": [
    "# dictionary: a changeable, unordered collection of unique key:value pairs\n",
    "# fast because they use hashing, allow us to access a value quickly\n",
    "\n",
    "capitals = {\"US\":\"Washington DC\", \n",
    "            \"India\": \"New Dehli\",\n",
    "            'China': 'Beijing',\n",
    "            'Russia': 'Moscow'\n",
    "           }\n",
    "# print(capitals[\"US\"]) #the issue with this line is that it will break the code if the dict does not have key\n",
    "# print(capitals.get('Germany')) #this line will search the dict even if the key is not there\n",
    "# print(capitals.values())\n",
    "# print(capitals.items()) #this will print both key and values in the dictionary\n",
    "for key,value in capitals.items():\n",
    "    print(key,value)"
   ]
  },
  {
   "cell_type": "code",
   "execution_count": null,
   "id": "85e26312-c2c0-4dfc-876a-fd9f4d16f024",
   "metadata": {},
   "outputs": [],
   "source": []
  }
 ],
 "metadata": {
  "kernelspec": {
   "display_name": "Python 3 (ipykernel)",
   "language": "python",
   "name": "python3"
  },
  "language_info": {
   "codemirror_mode": {
    "name": "ipython",
    "version": 3
   },
   "file_extension": ".py",
   "mimetype": "text/x-python",
   "name": "python",
   "nbconvert_exporter": "python",
   "pygments_lexer": "ipython3",
   "version": "3.12.2"
  }
 },
 "nbformat": 4,
 "nbformat_minor": 5
}
