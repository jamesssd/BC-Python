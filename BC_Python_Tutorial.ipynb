{
 "cells": [
  {
   "cell_type": "code",
   "execution_count": 4,
   "id": "2cb09313-9729-4d2e-8b3c-a5b70e572c00",
   "metadata": {
    "collapsed": true,
    "jupyter": {
     "outputs_hidden": true
    }
   },
   "outputs": [
    {
     "ename": "TypeError",
     "evalue": "can only concatenate str (not \"int\") to str",
     "output_type": "error",
     "traceback": [
      "\u001b[0;31m---------------------------------------------------------------------------\u001b[0m",
      "\u001b[0;31mTypeError\u001b[0m                                 Traceback (most recent call last)",
      "Cell \u001b[0;32mIn[4], line 11\u001b[0m\n\u001b[1;32m      8\u001b[0m x \u001b[38;5;241m=\u001b[39m \u001b[38;5;28mfloat\u001b[39m(x)\n\u001b[1;32m     10\u001b[0m \u001b[38;5;66;03m#print(\"x is : \" + x)\u001b[39;00m\n\u001b[0;32m---> 11\u001b[0m \u001b[38;5;28mprint\u001b[39m(\u001b[38;5;124;43m\"\u001b[39;49m\u001b[38;5;124;43my is :  \u001b[39;49m\u001b[38;5;124;43m\"\u001b[39;49m\u001b[43m \u001b[49m\u001b[38;5;241;43m+\u001b[39;49m\u001b[43m \u001b[49m\u001b[38;5;28;43mint\u001b[39;49m\u001b[43m(\u001b[49m\u001b[43my\u001b[49m\u001b[43m)\u001b[49m)\n\u001b[1;32m     12\u001b[0m \u001b[38;5;66;03m#original print statement print(z)\u001b[39;00m\n\u001b[1;32m     13\u001b[0m \u001b[38;5;28mprint\u001b[39m(z\u001b[38;5;241m*\u001b[39m\u001b[38;5;241m4\u001b[39m)\n",
      "\u001b[0;31mTypeError\u001b[0m: can only concatenate str (not \"int\") to str"
     ]
    }
   ],
   "source": [
    "# Type Casting-covert the data type of a value to another data type\n",
    "x = 1\n",
    "y = 2.0\n",
    "z = \"3\" \n",
    "\n",
    "#typecasting str to int\n",
    "z = int(z)\n",
    "x = float(x)\n",
    "\n",
    "# line of code below is gonna be an error because you can only concatenate str to str \n",
    "print(\"x is : \" + x)\n",
    "print(\"y is :  \" + int(y))\n",
    "#original print statement print(z)\n",
    "print(z*4)"
   ]
  },
  {
   "cell_type": "code",
   "execution_count": 11,
   "id": "b70d5d68-0028-44c4-89f8-fab7095e49fd",
   "metadata": {
    "collapsed": true,
    "jupyter": {
     "outputs_hidden": true
    }
   },
   "outputs": [
    {
     "name": "stdin",
     "output_type": "stream",
     "text": [
      "What is your name? James\n",
      "How old are you? 21\n",
      "How tall are you? 55.3\n"
     ]
    },
    {
     "name": "stdout",
     "output_type": "stream",
     "text": [
      "Hi James! Nice to meet you!\n",
      "You are 22 years old in one yearHow\n",
      "You are 55.3cm tall!\n"
     ]
    }
   ],
   "source": [
    "# user input\n",
    "#input is always going to be a str datatype, to put an integer or float, you must type cast it\n",
    "name = input(\"What is your name?\")\n",
    "age = int(input(\"How old are you?\"))\n",
    "height = float(input(\"How tall are you?\"))\n",
    "age = age + 1\n",
    "print(\"Hi \" + name + \"! Nice to meet you!\")\n",
    "print(\"You are \" + str(age) + \" years old in one yearHow\")\n",
    "print(\"You are \" + str(height) + \"cm tall!\")"
   ]
  },
  {
   "cell_type": "code",
   "execution_count": 17,
   "id": "46674b73-0006-47ba-8a2b-f9284133ed9a",
   "metadata": {
    "collapsed": true,
    "jupyter": {
     "outputs_hidden": true
    }
   },
   "outputs": [
    {
     "name": "stdout",
     "output_type": "stream",
     "text": [
      "3\n",
      "4\n",
      "3\n",
      "3.14\n",
      "9.8596\n",
      "20.493901531919196\n",
      "3\n",
      "1\n"
     ]
    }
   ],
   "source": [
    "# Math Functions\n",
    "import math #must use import to use functions\n",
    "pi = 3.14\n",
    "\n",
    "x = 1\n",
    "y = 2\n",
    "z = 3\n",
    "print(round(pi))\n",
    "print(math.ceil(pi))\n",
    "print(math.floor(pi))\n",
    "print(abs(pi)) #number away from 0\n",
    "print(pow(pi,2)) #power of\n",
    "print(math.sqrt(420)) #square root\n",
    "print(max(x,y,z))\n",
    "print(min(x,y,z))"
   ]
  },
  {
   "cell_type": "code",
   "execution_count": 34,
   "id": "ce33c349-9c93-4ed0-a3eb-602ac5a83c77",
   "metadata": {
    "collapsed": true,
    "jupyter": {
     "outputs_hidden": true
    }
   },
   "outputs": [
    {
     "ename": "TypeError",
     "evalue": "'str' object is not callable",
     "output_type": "error",
     "traceback": [
      "\u001b[0;31m---------------------------------------------------------------------------\u001b[0m",
      "\u001b[0;31mTypeError\u001b[0m                                 Traceback (most recent call last)",
      "Cell \u001b[0;32mIn[34], line 15\u001b[0m\n\u001b[1;32m      9\u001b[0m \u001b[38;5;66;03m# print(first_name)\u001b[39;00m\n\u001b[1;32m     10\u001b[0m \u001b[38;5;66;03m# print(last_name)\u001b[39;00m\n\u001b[1;32m     11\u001b[0m \u001b[38;5;66;03m# print(sec_charc)\u001b[39;00m\n\u001b[1;32m     12\u001b[0m \u001b[38;5;66;03m# print(reversed_name)\u001b[39;00m\n\u001b[1;32m     14\u001b[0m website \u001b[38;5;241m=\u001b[39m \u001b[38;5;124m\"\u001b[39m\u001b[38;5;124mhttp://google.com\u001b[39m\u001b[38;5;124m\"\u001b[39m\n\u001b[0;32m---> 15\u001b[0m \u001b[38;5;28mslice\u001b[39m \u001b[38;5;241m=\u001b[39m \u001b[38;5;28;43mslice\u001b[39;49m\u001b[43m(\u001b[49m\u001b[38;5;241;43m7\u001b[39;49m\u001b[43m,\u001b[49m\u001b[38;5;241;43m-\u001b[39;49m\u001b[38;5;241;43m4\u001b[39;49m\u001b[43m)\u001b[49m\n\u001b[1;32m     17\u001b[0m \u001b[38;5;28mprint\u001b[39m(website[\u001b[38;5;28mslice\u001b[39m])\n",
      "\u001b[0;31mTypeError\u001b[0m: 'str' object is not callable"
     ]
    }
   ],
   "source": [
    "#String slicing = create a substring by extracting elements from another string indexing[] or slice( [start:stop:step])\n",
    "#step is how much characters you are indexing too\n",
    "name = \"James Dizon\"\n",
    "first_name = name[:5] #name[0:5] this will still give you the same answer\n",
    "last_name = name[6:] #name[6:11] this will still give you the same answer\n",
    "sec_charc = name[::2]\n",
    "reversed_name = name[::-1]\n",
    "\n",
    "# print(first_name)\n",
    "# print(last_name)\n",
    "# print(sec_charc)\n",
    "# print(reversed_name)\n",
    "\n",
    "#the code below works\n",
    "website = \"http://google.com\"\n",
    "slice = slice(7,-4)\n",
    "\n",
    "print(website[slice])"
   ]
  },
  {
   "cell_type": "code",
   "execution_count": 5,
   "id": "cc823240-6153-460c-973d-5820a411371b",
   "metadata": {
    "collapsed": true,
    "jupyter": {
     "outputs_hidden": true
    }
   },
   "outputs": [
    {
     "name": "stdin",
     "output_type": "stream",
     "text": [
      "How old are you?:  18\n"
     ]
    },
    {
     "name": "stdout",
     "output_type": "stream",
     "text": [
      "You are an adult!\n"
     ]
    }
   ],
   "source": [
    "#if-else statements\n",
    "#Starts from the top and if false, then continue to move down then line of code\n",
    "age = int(input(\"How old are you?: \"))\n",
    "\n",
    "if age == 100:\n",
    "    print(\"You're super old!\")\n",
    "elif age >= 18:\n",
    "    print(\"You are an adult!\")\n",
    "    \n",
    "elif age < 0:\n",
    "    print(\"You haven't been born yet!\")\n",
    "else: \n",
    "    print(\"You are a little baby!\")\n",
    "\n"
   ]
  },
  {
   "cell_type": "code",
   "execution_count": 1,
   "id": "ec5eafa5-f27b-495d-b25a-f4159422769a",
   "metadata": {
    "collapsed": true,
    "jupyter": {
     "outputs_hidden": true
    }
   },
   "outputs": [
    {
     "name": "stdin",
     "output_type": "stream",
     "text": [
      "What is the temperature outside?:  15\n"
     ]
    },
    {
     "name": "stdout",
     "output_type": "stream",
     "text": [
      "The temperate is good today!\n",
      "Go outside!!\n"
     ]
    }
   ],
   "source": [
    "#Logical operators = used to check if two or more conditional statements are true or false:\n",
    "# and - both statements has to be true\n",
    "# or - one statements has to be true\n",
    "#not - the statement will bee opposite, true=false, false = true\n",
    "temp = int(input(\"What is the temperature outside?: \"))\n",
    "#original code:\n",
    "# if temp >= 0 and temp <= 30:\n",
    "#     print(\"The temperate is good today!\")\n",
    "#     print(\"Go outside!!\")\n",
    "# elif temp < 0 or temp >= 30:\n",
    "#     print(\"The temperature is bad today!\")\n",
    "#     print(\"Stay inside!\")\n",
    "if not(temp >= 0 and temp <= 30):\n",
    "    print(\"The temperature is bad today!\")\n",
    "    print(\"Stay inside!\")\n",
    "elif not(temp < 0 or temp >= 30):\n",
    "    print(\"The temperate is good today!\")\n",
    "    print(\"Go outside!!\")\n",
    "    \n",
    "    \n",
    "    "
   ]
  },
  {
   "cell_type": "code",
   "execution_count": 4,
   "id": "7b1c8fc9-a9bd-4692-99af-de3ec74675fb",
   "metadata": {
    "collapsed": true,
    "jupyter": {
     "outputs_hidden": true
    }
   },
   "outputs": [
    {
     "name": "stdin",
     "output_type": "stream",
     "text": [
      "Enter your name:  James\n"
     ]
    },
    {
     "name": "stdout",
     "output_type": "stream",
     "text": [
      "Hello James!!!\n"
     ]
    }
   ],
   "source": [
    "#While Loops: loop that will continue as long as condition is true\n",
    "\n",
    "name = None\n",
    "while not name:\n",
    "    name = input(\"Enter your name: \")\n",
    "print(\"Hello \" + name + \"!!!\")"
   ]
  },
  {
   "cell_type": "code",
   "execution_count": 21,
   "id": "f41a53e6-04cd-4494-b94b-46eceff31cc5",
   "metadata": {
    "collapsed": true,
    "jupyter": {
     "outputs_hidden": true
    }
   },
   "outputs": [
    {
     "name": "stdout",
     "output_type": "stream",
     "text": [
      "10\n",
      "9\n",
      "8\n",
      "7\n",
      "6\n",
      "5\n",
      "4\n",
      "3\n",
      "2\n",
      "1\n",
      "Happy New Year!\n"
     ]
    }
   ],
   "source": [
    "import time\n",
    "#For Loops: statement aht will execute its block of code a limited amount of times\n",
    "\n",
    "# for i in range(10):\n",
    "    # print(i+1)\n",
    "\n",
    "# for i in range(50,100+1, 30):\n",
    "#     print(i)\n",
    "# for i in \"James Dizon\":\n",
    "#     print(i)\n",
    "\n",
    "for i in range(10,0,-1):\n",
    "    print(i)\n",
    "    time.sleep(1)\n",
    "print(\"Happy New Year!\")"
   ]
  },
  {
   "cell_type": "code",
   "execution_count": 1,
   "id": "306d8dd5-ec6a-4b3e-81af-03f78fdfeb50",
   "metadata": {
    "scrolled": true
   },
   "outputs": [
    {
     "name": "stdin",
     "output_type": "stream",
     "text": [
      "How many row?:  5\n",
      "How many columns?:  6\n",
      "Enter a symbol to use:  $\n"
     ]
    },
    {
     "name": "stdout",
     "output_type": "stream",
     "text": [
      "$$$$$$\n",
      "$$$$$$\n",
      "$$$$$$\n",
      "$$$$$$\n",
      "$$$$$$\n"
     ]
    }
   ],
   "source": [
    "# Nested Loops = the \"inner loop\" will finish all of it's iterations before finishing one iteration of the \"outer loop\"\n",
    "rows = int(input(\"How many row?: \"))\n",
    "col = int(input(\"How many columns?: \"))\n",
    "sym = input(\"Enter a symbol to use: \")\n",
    "# code on the bottom is a nested loop that runs the inner loop then completes the iteration for the outer loop\n",
    "# ie. row input is 5 and column input 6. outer loop will create the first row, then the inner loop will run 6 times then\n",
    "#the outer loop will move on to the next iteration this loop will continue until there are 5 rows \n",
    "for i in range(rows):\n",
    "    for j in range(col):\n",
    "        print(sym, end=\"\") #prevent the cursor on going down the next line\n",
    "    print()"
   ]
  },
  {
   "cell_type": "code",
   "execution_count": 4,
   "id": "c11246ff-2175-4266-86db-2e38569a248d",
   "metadata": {},
   "outputs": [
    {
     "name": "stdout",
     "output_type": "stream",
     "text": [
      "1\n",
      "2\n",
      "3\n",
      "4\n",
      "5\n",
      "6\n",
      "7\n",
      "8\n",
      "9\n",
      "10\n",
      "11\n",
      "12\n",
      "14\n",
      "15\n",
      "16\n",
      "17\n",
      "18\n",
      "19\n",
      "20\n"
     ]
    }
   ],
   "source": [
    "# loop control statements: change a loops execution from its normal sequence\n",
    "# break: used to terminate the loop entirely\n",
    "# continue: skips to the next iteration of the loop\n",
    "# pass: does nothing, acts as a placeholder\n",
    "\n",
    "# while True:\n",
    "#     name = input(\"Enter your name: \")\n",
    "#     if name != \"\":\n",
    "#         break\n",
    "phone_num = \"123-456-7890\"\n",
    "\n",
    "# for i in phone_num:\n",
    "#     if i == \"-\":\n",
    "#         continue\n",
    "#     print(i, end= \"\")\n",
    "\n",
    "# for i in range(1, 21):\n",
    "#     if i == 13:\n",
    "#         pass\n",
    "#     else:\n",
    "#         print(i)"
   ]
  },
  {
   "cell_type": "code",
   "execution_count": null,
   "id": "3bf588f5-53e3-44a5-96b1-a10f89209892",
   "metadata": {},
   "outputs": [],
   "source": [
    "# list: used to store multiple items in a single variable "
   ]
  }
 ],
 "metadata": {
  "kernelspec": {
   "display_name": "Python 3 (ipykernel)",
   "language": "python",
   "name": "python3"
  },
  "language_info": {
   "codemirror_mode": {
    "name": "ipython",
    "version": 3
   },
   "file_extension": ".py",
   "mimetype": "text/x-python",
   "name": "python",
   "nbconvert_exporter": "python",
   "pygments_lexer": "ipython3",
   "version": "3.12.2"
  }
 },
 "nbformat": 4,
 "nbformat_minor": 5
}
